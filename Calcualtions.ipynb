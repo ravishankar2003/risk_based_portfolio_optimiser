{
 "cells": [
  {
   "cell_type": "code",
   "execution_count": 49,
   "metadata": {
    "colab": {
     "base_uri": "https://localhost:8080/"
    },
    "id": "yuV2RNdidfuy",
    "outputId": "18dfc5ba-0d4b-49f3-edb8-b20949be3775"
   },
   "outputs": [
    {
     "name": "stdout",
     "output_type": "stream",
     "text": [
      "Enter the starting year: 2024\n",
      "Enter the final year: 2032\n",
      "Enter investable amount per annum : 60000\n",
      "Enter the yearly rate of increment for investable amount in percentage: 10\n",
      "Enter intial investable amount as of starting year: 100000\n",
      "Enter final amount at the end of final year : 1150000\n"
     ]
    }
   ],
   "source": [
    "#USER INPUT\n",
    "starting_year = int(input(\"Enter the starting year: \"))\n",
    "final_year = int(input(\"Enter the final year: \"))\n",
    "iapa = float(input(\"Enter investable amount per annum : \"))\n",
    "iapa_increment = float(input(\"Enter the yearly rate of increment for investable amount in percentage: \"))\n",
    "initial_amount = float(input(\"Enter intial investable amount as of starting year: \"))\n",
    "expected_return = float(input(\"Enter final amount at the end of final year : \"))"
   ]
  },
  {
   "cell_type": "code",
   "execution_count": 50,
   "metadata": {
    "id": "oTBGnTDQ7-bx"
   },
   "outputs": [],
   "source": [
    "#CALCULATIONS\n",
    "def get_return(allocation_perc, initial_amount, iapa,iapa_increment, rate_of_return, starting_year, final_year):\n",
    "\n",
    "    fv_curr = initial_amount*allocation_perc/100\n",
    "    iapa = iapa*allocation_perc/100\n",
    "    rate_of_return = rate_of_return/100\n",
    "    iapa_increment = iapa_increment/100\n",
    "\n",
    "    for i in range(starting_year+1, final_year+1):\n",
    "        fv_curr = (fv_curr + iapa*((1+iapa_increment)**(i-starting_year-1)))*(1+rate_of_return)\n",
    "\n",
    "\n",
    "    return fv_curr\n",
    "\n",
    "\n"
   ]
  },
  {
   "cell_type": "code",
   "execution_count": 51,
   "metadata": {
    "id": "mv5e1GwJ8PEm"
   },
   "outputs": [],
   "source": [
    "#constants\n",
    "\n",
    "#returns\n",
    "bonds_return =6.5\n",
    "\n",
    "m_large_returns = 10.7\n",
    "m_med_returns = 11.25\n",
    "m_small_returns = 11.85\n",
    "\n",
    "gold_returns = 9.3\n",
    "\n",
    "#p1 % constants\n",
    "p1_bonds = 60\n",
    "\n",
    "p1_m_large = 10\n",
    "p1_m_med = 7\n",
    "p1_m_small = 3\n",
    "\n",
    "p1_gold = 20\n",
    "\n",
    "#p2 % constants\n",
    "p2_bonds = 44.82\n",
    "\n",
    "p2_m_large = 12.07\n",
    "p2_m_med = 11.72\n",
    "p2_m_small = 14.13\n",
    "\n",
    "p2_gold = 17.24\n",
    "\n",
    "#p3 % constants\n",
    "p3_bonds = 28.57\n",
    "\n",
    "p3_m_large = 14.28\n",
    "p3_m_med = 16.78\n",
    "p3_m_small = 26.06\n",
    "\n",
    "p3_gold = 14.28\n",
    "\n",
    "#p4 % constants\n",
    "p4_bonds = 20\n",
    "\n",
    "p4_m_large = 15\n",
    "p4_m_med = 20\n",
    "p4_m_small = 35\n",
    "\n",
    "p4_gold = 10"
   ]
  },
  {
   "cell_type": "code",
   "execution_count": 52,
   "metadata": {
    "id": "-dZRLrJ-RlYq"
   },
   "outputs": [],
   "source": [
    "def total_capital(iapa, iapa_increment, starting_year, final_year, initial_amount, expected_return):\n",
    "    p1_total=0\n",
    "    p2_total=0\n",
    "    p3_total=0\n",
    "    p4_total=0\n",
    "\n",
    "    p1_total = get_return(p1_bonds, initial_amount, iapa,iapa_increment, bonds_return, starting_year, final_year) + get_return(p1_m_large, initial_amount, iapa,iapa_increment, m_large_returns, starting_year, final_year) + get_return(p1_m_med, initial_amount, iapa,iapa_increment, m_med_returns, starting_year, final_year) + get_return(p1_m_small, initial_amount, iapa,iapa_increment, m_small_returns, starting_year, final_year) + get_return(p1_gold, initial_amount, iapa,iapa_increment, gold_returns, starting_year, final_year)\n",
    "    p2_total = get_return(p2_bonds, initial_amount, iapa,iapa_increment, bonds_return, starting_year, final_year) + get_return(p2_m_large, initial_amount, iapa,iapa_increment, m_large_returns, starting_year, final_year) + get_return(p2_m_med, initial_amount, iapa,iapa_increment, m_med_returns, starting_year, final_year) + get_return(p2_m_small, initial_amount, iapa,iapa_increment, m_small_returns, starting_year, final_year) + get_return(p2_gold, initial_amount, iapa,iapa_increment, gold_returns, starting_year, final_year)\n",
    "    p3_total = get_return(p3_bonds, initial_amount, iapa,iapa_increment, bonds_return, starting_year, final_year) + get_return(p3_m_large, initial_amount, iapa,iapa_increment, m_large_returns, starting_year, final_year) + get_return(p3_m_med, initial_amount, iapa,iapa_increment, m_med_returns, starting_year, final_year) + get_return(p3_m_small, initial_amount, iapa,iapa_increment, m_small_returns, starting_year, final_year) + get_return(p3_gold, initial_amount, iapa,iapa_increment, gold_returns, starting_year, final_year)\n",
    "    p4_total = get_return(p4_bonds, initial_amount, iapa,iapa_increment, bonds_return, starting_year, final_year) + get_return(p4_m_large, initial_amount, iapa,iapa_increment, m_large_returns, starting_year, final_year) + get_return(p4_m_med, initial_amount, iapa,iapa_increment, m_med_returns, starting_year, final_year) + get_return(p4_m_small, initial_amount, iapa,iapa_increment, m_small_returns, starting_year, final_year) + get_return(p4_gold, initial_amount, iapa,iapa_increment, gold_returns, starting_year, final_year)\n",
    "\n",
    "\n",
    "    return {\"p1\":p1_total, \"p2\":p2_total, \"p3\":p3_total, \"p4\":p4_total}"
   ]
  },
  {
   "cell_type": "code",
   "execution_count": 53,
   "metadata": {
    "id": "ZD7rXbdKRqeh"
   },
   "outputs": [],
   "source": [
    "#ans = get_return(100, initial_amount, iapa,iapa_increment,12 , starting_year, final_year)\n",
    "\n",
    "ans = total_capital(iapa, iapa_increment, starting_year, final_year, initial_amount, expected_return)"
   ]
  },
  {
   "cell_type": "code",
   "execution_count": 54,
   "metadata": {
    "colab": {
     "base_uri": "https://localhost:8080/"
    },
    "id": "TPkYXRGPRtCJ",
    "outputId": "c2407b8b-5acc-4af0-e257-2ba410ccdca2"
   },
   "outputs": [
    {
     "data": {
      "text/plain": [
       "{'p1': 1136547.026403778,\n",
       " 'p2': 1182370.127328148,\n",
       " 'p3': 1231587.4716411028,\n",
       " 'p4': 1262244.4247441888}"
      ]
     },
     "execution_count": 54,
     "metadata": {},
     "output_type": "execute_result"
    }
   ],
   "source": [
    "ans"
   ]
  },
  {
   "cell_type": "code",
   "execution_count": 70,
   "metadata": {
    "colab": {
     "base_uri": "https://localhost:8080/"
    },
    "id": "FX-_pZLDTnZJ",
    "outputId": "47c38a44-a0f7-4870-ce74-30efeccc7524"
   },
   "outputs": [
    {
     "name": "stdout",
     "output_type": "stream",
     "text": [
      "low\n"
     ]
    }
   ],
   "source": [
    "# Expexted Risk Level\n",
    "if expected_return < ans[\"p1\"]:\n",
    "    risk_level = \"very low\"\n",
    "elif ans[\"p1\"] <= expected_return < ans[\"p2\"]:\n",
    "    risk_level = \"low\"\n",
    "elif ans[\"p2\"] <= expected_return < ans[\"p3\"]:\n",
    "    risk_level = \"medium\"\n",
    "elif ans[\"p3\"] <= expected_return <= ans[\"p4\"]:\n",
    "    risk_level = \"high\"\n",
    "elif ans[\"p4\"] < expected_return :\n",
    "    risk_level = \"very high\"\n",
    "\n",
    "print(risk_level)"
   ]
  },
  {
   "cell_type": "code",
   "execution_count": 71,
   "metadata": {
    "colab": {
     "base_uri": "https://localhost:8080/"
    },
    "id": "k2Gs9caXZz60",
    "outputId": "6f671004-d115-4845-f157-843504cf9b13"
   },
   "outputs": [
    {
     "name": "stdout",
     "output_type": "stream",
     "text": [
      "55.54664172495529 10.608343772804108 8.386213459902175 6.267968724697573 19.190832317640876\n"
     ]
    }
   ],
   "source": [
    "# Portfolio parts based on expected_return\n",
    "if ans[\"p1\"] <= expected_return < ans[\"p2\"]:\n",
    "    i_bond = p2_bonds + (((ans[\"p2\"] - expected_return)/ (ans[\"p2\"] - ans[\"p1\"]))*(p1_bonds - p2_bonds))\n",
    "    i_m_large = p2_m_large - (((ans[\"p2\"] - expected_return)/ (ans[\"p2\"] - ans[\"p1\"]))*(p2_m_large - p1_m_large))\n",
    "    i_m_med = p2_m_med - (((ans[\"p2\"] - expected_return)/ (ans[\"p2\"] - ans[\"p1\"]))*(p2_m_med - p1_m_med))\n",
    "    i_m_small = p2_m_small - (((ans[\"p2\"] - expected_return)/ (ans[\"p2\"] - ans[\"p1\"]))*(p2_m_small - p1_m_small))\n",
    "    i_gold = p2_gold + (((ans[\"p2\"] - expected_return)/ (ans[\"p2\"] - ans[\"p1\"]))*(p1_gold - p2_gold))\n",
    "    f_bond = (i_bond / (i_bond+i_m_large+i_m_med+i_m_small+i_gold))*100\n",
    "    f_m_large = (i_m_large / (i_bond+i_m_large+i_m_med+i_m_small+i_gold))*100\n",
    "    f_m_med = (i_m_med / (i_bond+i_m_large+i_m_med+i_m_small+i_gold))*100\n",
    "    f_m_small = (i_m_small / (i_bond+i_m_large+i_m_med+i_m_small+i_gold))*100\n",
    "    f_gold = (i_gold / (i_bond+i_m_large+i_m_med+i_m_small+i_gold))*100\n",
    "    print(f_bond, f_m_large, f_m_med, f_m_small, f_gold)\n",
    "elif ans[\"p2\"] <= expected_return < ans[\"p3\"]:\n",
    "    i_bond = p3_bonds + (((ans[\"p3\"] - expected_return)/ (ans[\"p3\"] - ans[\"p2\"]))*(p2_bonds - p3_bonds))\n",
    "    i_m_large = p3_m_large - (((ans[\"p3\"] - expected_return)/ (ans[\"p3\"] - ans[\"p2\"]))*(p3_m_large - p2_m_large))\n",
    "    i_m_med = p3_m_med - (((ans[\"p3\"] - expected_return)/ (ans[\"p3\"] - ans[\"p2\"]))*(p3_m_med - p2_m_med))\n",
    "    i_m_small = p3_m_small - (((ans[\"p3\"] - expected_return)/ (ans[\"p3\"] - ans[\"p2\"]))*(p3_m_small - p2_m_small))\n",
    "    i_gold = p3_gold + (((ans[\"p3\"] - expected_return)/ (ans[\"p3\"] - ans[\"p2\"]))*(p2_gold - p3_gold))\n",
    "    f_bond = (i_bond / (i_bond+i_m_large+i_m_med+i_m_small+i_gold))*100\n",
    "    f_m_large = (i_m_large / (i_bond+i_m_large+i_m_med+i_m_small+i_gold))*100\n",
    "    f_m_med = (i_m_med / (i_bond+i_m_large+i_m_med+i_m_small+i_gold))*100\n",
    "    f_m_small = (i_m_small / (i_bond+i_m_large+i_m_med+i_m_small+i_gold))*100\n",
    "    f_gold = (i_gold / (i_bond+i_m_large+i_m_med+i_m_small+i_gold))*100\n",
    "    print(f_bond, f_m_large, f_m_med, f_m_small, f_gold)\n",
    "elif ans[\"p3\"] <= expected_return <= ans[\"p4\"]:\n",
    "    i_bond = p4_bonds + (((ans[\"p4\"] - expected_return)/ (ans[\"p4\"] - ans[\"p3\"]))*(p3_bonds - p4_bonds))\n",
    "    i_m_large = p4_m_large - (((ans[\"p4\"] - expected_return)/ (ans[\"p4\"] - ans[\"p3\"]))*(p4_m_large - p3_m_large))\n",
    "    i_m_med = p4_m_med - (((ans[\"p4\"] - expected_return)/ (ans[\"p4\"] - ans[\"p3\"]))*(p4_m_med - p3_m_med))\n",
    "    i_m_small = p4_m_small - (((ans[\"p4\"] - expected_return)/ (ans[\"p4\"] - ans[\"p3\"]))*(p4_m_small - p3_m_small))\n",
    "    i_gold = p4_gold + (((ans[\"p4\"] - expected_return)/ (ans[\"p4\"] - ans[\"p3\"]))*(p3_gold - p4_gold))\n",
    "    f_bond = (i_bond / (i_bond+i_m_large+i_m_med+i_m_small+i_gold))*100\n",
    "    f_m_large = (i_m_large / (i_bond+i_m_large+i_m_med+i_m_small+i_gold))*100\n",
    "    f_m_med = (i_m_med / (i_bond+i_m_large+i_m_med+i_m_small+i_gold))*100\n",
    "    f_m_small = (i_m_small / (i_bond+i_m_large+i_m_med+i_m_small+i_gold))*100\n",
    "    f_gold = (i_gold / (i_bond+i_m_large+i_m_med+i_m_small+i_gold))*100\n",
    "    print(f_bond, f_m_large, f_m_med, f_m_small, f_gold)"
   ]
  },
  {
   "cell_type": "code",
   "execution_count": 69,
   "metadata": {
    "id": "sZ9XXxandjq1"
   },
   "outputs": [],
   "source": []
  },
  {
   "cell_type": "code",
   "execution_count": null,
   "metadata": {
    "id": "gyNXRpWSdk-F"
   },
   "outputs": [],
   "source": []
  }
 ],
 "metadata": {
  "colab": {
   "provenance": [],
   "toc_visible": true
  },
  "kernelspec": {
   "display_name": "Python 3 (ipykernel)",
   "language": "python",
   "name": "python3"
  },
  "language_info": {
   "codemirror_mode": {
    "name": "ipython",
    "version": 3
   },
   "file_extension": ".py",
   "mimetype": "text/x-python",
   "name": "python",
   "nbconvert_exporter": "python",
   "pygments_lexer": "ipython3",
   "version": "3.11.5"
  }
 },
 "nbformat": 4,
 "nbformat_minor": 1
}
